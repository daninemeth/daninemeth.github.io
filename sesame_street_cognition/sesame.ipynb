{
 "cells": [
  {
   "cell_type": "markdown",
   "metadata": {},
   "source": [
    "# Sesame street\n",
    "\n",
    "\n",
    "This notebook is a reproduction of the classic developmental psychology study on the Sesame Street tv show. \n",
    "\n",
    "For more details, see *G Is for Growing: Thirty Years of Research on Children and Sesame Street*\n",
    "Routledge Communication Series\n",
    "Editors\tShalom M. Fisch, Rosemarie T. Truglio\n",
    "\n",
    "![alt text](Gisforgrowing.jpg)\n",
    "\n",
    "The file sesame.csv contains data on an experiment which sought to learn\n",
    "whether regularly watching Sesame Street caused an increase in cognitive skills, at least on average. The experiment consisted of randomly selecting some children, and encouraging them to watch the show, while others received no such encouragement. The children were tested before and after the\n",
    "experimental period on a range of cognitive skills. (Table 1 lists the variables.)"
   ]
  },
  {
   "cell_type": "markdown",
   "metadata": {},
   "source": [
    "![alt text](columns.jpg)"
   ]
  },
  {
   "cell_type": "code",
   "execution_count": 183,
   "metadata": {},
   "outputs": [],
   "source": [
    "import numpy as np\n",
    "import pandas as pd\n",
    "import matplotlib.pyplot as plt\n",
    "import seaborn as sns"
   ]
  },
  {
   "cell_type": "code",
   "execution_count": 184,
   "metadata": {},
   "outputs": [],
   "source": [
    "df = pd.read_csv('sesame.csv')"
   ]
  },
  {
   "cell_type": "code",
   "execution_count": 185,
   "metadata": {},
   "outputs": [
    {
     "data": {
      "text/html": [
       "<div>\n",
       "<style scoped>\n",
       "    .dataframe tbody tr th:only-of-type {\n",
       "        vertical-align: middle;\n",
       "    }\n",
       "\n",
       "    .dataframe tbody tr th {\n",
       "        vertical-align: top;\n",
       "    }\n",
       "\n",
       "    .dataframe thead th {\n",
       "        text-align: right;\n",
       "    }\n",
       "</style>\n",
       "<table border=\"1\" class=\"dataframe\">\n",
       "  <thead>\n",
       "    <tr style=\"text-align: right;\">\n",
       "      <th></th>\n",
       "      <th>site</th>\n",
       "      <th>sex</th>\n",
       "      <th>age</th>\n",
       "      <th>viewcat</th>\n",
       "      <th>setting</th>\n",
       "      <th>prebody</th>\n",
       "      <th>prelet</th>\n",
       "      <th>preform</th>\n",
       "      <th>prenumb</th>\n",
       "      <th>prerelat</th>\n",
       "      <th>preclasf</th>\n",
       "      <th>postbody</th>\n",
       "      <th>postlet</th>\n",
       "      <th>postform</th>\n",
       "      <th>postnumb</th>\n",
       "      <th>postrelat</th>\n",
       "      <th>postclasf</th>\n",
       "      <th>peabody</th>\n",
       "      <th>encour</th>\n",
       "      <th>regular</th>\n",
       "    </tr>\n",
       "    <tr>\n",
       "      <th>id</th>\n",
       "      <th></th>\n",
       "      <th></th>\n",
       "      <th></th>\n",
       "      <th></th>\n",
       "      <th></th>\n",
       "      <th></th>\n",
       "      <th></th>\n",
       "      <th></th>\n",
       "      <th></th>\n",
       "      <th></th>\n",
       "      <th></th>\n",
       "      <th></th>\n",
       "      <th></th>\n",
       "      <th></th>\n",
       "      <th></th>\n",
       "      <th></th>\n",
       "      <th></th>\n",
       "      <th></th>\n",
       "      <th></th>\n",
       "      <th></th>\n",
       "    </tr>\n",
       "  </thead>\n",
       "  <tbody>\n",
       "    <tr>\n",
       "      <th>1</th>\n",
       "      <td>1</td>\n",
       "      <td>1</td>\n",
       "      <td>66</td>\n",
       "      <td>1</td>\n",
       "      <td>2</td>\n",
       "      <td>16</td>\n",
       "      <td>23</td>\n",
       "      <td>12</td>\n",
       "      <td>40</td>\n",
       "      <td>14</td>\n",
       "      <td>20</td>\n",
       "      <td>18</td>\n",
       "      <td>30</td>\n",
       "      <td>14</td>\n",
       "      <td>44</td>\n",
       "      <td>14</td>\n",
       "      <td>23</td>\n",
       "      <td>62</td>\n",
       "      <td>1</td>\n",
       "      <td>0</td>\n",
       "    </tr>\n",
       "    <tr>\n",
       "      <th>2</th>\n",
       "      <td>1</td>\n",
       "      <td>2</td>\n",
       "      <td>67</td>\n",
       "      <td>3</td>\n",
       "      <td>2</td>\n",
       "      <td>30</td>\n",
       "      <td>26</td>\n",
       "      <td>9</td>\n",
       "      <td>39</td>\n",
       "      <td>16</td>\n",
       "      <td>22</td>\n",
       "      <td>30</td>\n",
       "      <td>37</td>\n",
       "      <td>17</td>\n",
       "      <td>39</td>\n",
       "      <td>14</td>\n",
       "      <td>22</td>\n",
       "      <td>8</td>\n",
       "      <td>1</td>\n",
       "      <td>1</td>\n",
       "    </tr>\n",
       "    <tr>\n",
       "      <th>3</th>\n",
       "      <td>1</td>\n",
       "      <td>1</td>\n",
       "      <td>56</td>\n",
       "      <td>3</td>\n",
       "      <td>2</td>\n",
       "      <td>22</td>\n",
       "      <td>14</td>\n",
       "      <td>9</td>\n",
       "      <td>9</td>\n",
       "      <td>9</td>\n",
       "      <td>8</td>\n",
       "      <td>21</td>\n",
       "      <td>46</td>\n",
       "      <td>15</td>\n",
       "      <td>40</td>\n",
       "      <td>9</td>\n",
       "      <td>19</td>\n",
       "      <td>32</td>\n",
       "      <td>0</td>\n",
       "      <td>1</td>\n",
       "    </tr>\n",
       "    <tr>\n",
       "      <th>4</th>\n",
       "      <td>1</td>\n",
       "      <td>1</td>\n",
       "      <td>49</td>\n",
       "      <td>1</td>\n",
       "      <td>2</td>\n",
       "      <td>23</td>\n",
       "      <td>11</td>\n",
       "      <td>10</td>\n",
       "      <td>14</td>\n",
       "      <td>9</td>\n",
       "      <td>13</td>\n",
       "      <td>21</td>\n",
       "      <td>14</td>\n",
       "      <td>13</td>\n",
       "      <td>19</td>\n",
       "      <td>8</td>\n",
       "      <td>15</td>\n",
       "      <td>27</td>\n",
       "      <td>0</td>\n",
       "      <td>0</td>\n",
       "    </tr>\n",
       "    <tr>\n",
       "      <th>5</th>\n",
       "      <td>1</td>\n",
       "      <td>1</td>\n",
       "      <td>69</td>\n",
       "      <td>4</td>\n",
       "      <td>2</td>\n",
       "      <td>32</td>\n",
       "      <td>47</td>\n",
       "      <td>15</td>\n",
       "      <td>51</td>\n",
       "      <td>17</td>\n",
       "      <td>22</td>\n",
       "      <td>32</td>\n",
       "      <td>63</td>\n",
       "      <td>18</td>\n",
       "      <td>54</td>\n",
       "      <td>14</td>\n",
       "      <td>21</td>\n",
       "      <td>71</td>\n",
       "      <td>0</td>\n",
       "      <td>1</td>\n",
       "    </tr>\n",
       "    <tr>\n",
       "      <th>...</th>\n",
       "      <td>...</td>\n",
       "      <td>...</td>\n",
       "      <td>...</td>\n",
       "      <td>...</td>\n",
       "      <td>...</td>\n",
       "      <td>...</td>\n",
       "      <td>...</td>\n",
       "      <td>...</td>\n",
       "      <td>...</td>\n",
       "      <td>...</td>\n",
       "      <td>...</td>\n",
       "      <td>...</td>\n",
       "      <td>...</td>\n",
       "      <td>...</td>\n",
       "      <td>...</td>\n",
       "      <td>...</td>\n",
       "      <td>...</td>\n",
       "      <td>...</td>\n",
       "      <td>...</td>\n",
       "      <td>...</td>\n",
       "    </tr>\n",
       "    <tr>\n",
       "      <th>236</th>\n",
       "      <td>5</td>\n",
       "      <td>2</td>\n",
       "      <td>51</td>\n",
       "      <td>2</td>\n",
       "      <td>1</td>\n",
       "      <td>30</td>\n",
       "      <td>15</td>\n",
       "      <td>8</td>\n",
       "      <td>12</td>\n",
       "      <td>10</td>\n",
       "      <td>10</td>\n",
       "      <td>30</td>\n",
       "      <td>33</td>\n",
       "      <td>12</td>\n",
       "      <td>45</td>\n",
       "      <td>12</td>\n",
       "      <td>20</td>\n",
       "      <td>49</td>\n",
       "      <td>1</td>\n",
       "      <td>1</td>\n",
       "    </tr>\n",
       "    <tr>\n",
       "      <th>237</th>\n",
       "      <td>5</td>\n",
       "      <td>1</td>\n",
       "      <td>49</td>\n",
       "      <td>4</td>\n",
       "      <td>1</td>\n",
       "      <td>17</td>\n",
       "      <td>16</td>\n",
       "      <td>12</td>\n",
       "      <td>15</td>\n",
       "      <td>8</td>\n",
       "      <td>15</td>\n",
       "      <td>25</td>\n",
       "      <td>26</td>\n",
       "      <td>15</td>\n",
       "      <td>20</td>\n",
       "      <td>12</td>\n",
       "      <td>11</td>\n",
       "      <td>41</td>\n",
       "      <td>1</td>\n",
       "      <td>1</td>\n",
       "    </tr>\n",
       "    <tr>\n",
       "      <th>238</th>\n",
       "      <td>5</td>\n",
       "      <td>1</td>\n",
       "      <td>43</td>\n",
       "      <td>2</td>\n",
       "      <td>1</td>\n",
       "      <td>16</td>\n",
       "      <td>13</td>\n",
       "      <td>6</td>\n",
       "      <td>11</td>\n",
       "      <td>8</td>\n",
       "      <td>9</td>\n",
       "      <td>22</td>\n",
       "      <td>19</td>\n",
       "      <td>10</td>\n",
       "      <td>10</td>\n",
       "      <td>9</td>\n",
       "      <td>7</td>\n",
       "      <td>30</td>\n",
       "      <td>1</td>\n",
       "      <td>1</td>\n",
       "    </tr>\n",
       "    <tr>\n",
       "      <th>239</th>\n",
       "      <td>5</td>\n",
       "      <td>2</td>\n",
       "      <td>60</td>\n",
       "      <td>3</td>\n",
       "      <td>1</td>\n",
       "      <td>23</td>\n",
       "      <td>16</td>\n",
       "      <td>9</td>\n",
       "      <td>33</td>\n",
       "      <td>14</td>\n",
       "      <td>16</td>\n",
       "      <td>29</td>\n",
       "      <td>35</td>\n",
       "      <td>18</td>\n",
       "      <td>50</td>\n",
       "      <td>13</td>\n",
       "      <td>23</td>\n",
       "      <td>69</td>\n",
       "      <td>1</td>\n",
       "      <td>1</td>\n",
       "    </tr>\n",
       "    <tr>\n",
       "      <th>240</th>\n",
       "      <td>5</td>\n",
       "      <td>1</td>\n",
       "      <td>51</td>\n",
       "      <td>4</td>\n",
       "      <td>1</td>\n",
       "      <td>21</td>\n",
       "      <td>11</td>\n",
       "      <td>10</td>\n",
       "      <td>27</td>\n",
       "      <td>10</td>\n",
       "      <td>12</td>\n",
       "      <td>25</td>\n",
       "      <td>32</td>\n",
       "      <td>17</td>\n",
       "      <td>47</td>\n",
       "      <td>11</td>\n",
       "      <td>19</td>\n",
       "      <td>65</td>\n",
       "      <td>1</td>\n",
       "      <td>1</td>\n",
       "    </tr>\n",
       "  </tbody>\n",
       "</table>\n",
       "<p>240 rows × 20 columns</p>\n",
       "</div>"
      ],
      "text/plain": [
       "     site  sex  age  viewcat  setting  prebody  prelet  preform  prenumb  \\\n",
       "id                                                                         \n",
       "1       1    1   66        1        2       16      23       12       40   \n",
       "2       1    2   67        3        2       30      26        9       39   \n",
       "3       1    1   56        3        2       22      14        9        9   \n",
       "4       1    1   49        1        2       23      11       10       14   \n",
       "5       1    1   69        4        2       32      47       15       51   \n",
       "..    ...  ...  ...      ...      ...      ...     ...      ...      ...   \n",
       "236     5    2   51        2        1       30      15        8       12   \n",
       "237     5    1   49        4        1       17      16       12       15   \n",
       "238     5    1   43        2        1       16      13        6       11   \n",
       "239     5    2   60        3        1       23      16        9       33   \n",
       "240     5    1   51        4        1       21      11       10       27   \n",
       "\n",
       "     prerelat  preclasf  postbody  postlet  postform  postnumb  postrelat  \\\n",
       "id                                                                          \n",
       "1          14        20        18       30        14        44         14   \n",
       "2          16        22        30       37        17        39         14   \n",
       "3           9         8        21       46        15        40          9   \n",
       "4           9        13        21       14        13        19          8   \n",
       "5          17        22        32       63        18        54         14   \n",
       "..        ...       ...       ...      ...       ...       ...        ...   \n",
       "236        10        10        30       33        12        45         12   \n",
       "237         8        15        25       26        15        20         12   \n",
       "238         8         9        22       19        10        10          9   \n",
       "239        14        16        29       35        18        50         13   \n",
       "240        10        12        25       32        17        47         11   \n",
       "\n",
       "     postclasf  peabody  encour  regular  \n",
       "id                                        \n",
       "1           23       62       1        0  \n",
       "2           22        8       1        1  \n",
       "3           19       32       0        1  \n",
       "4           15       27       0        0  \n",
       "5           21       71       0        1  \n",
       "..         ...      ...     ...      ...  \n",
       "236         20       49       1        1  \n",
       "237         11       41       1        1  \n",
       "238          7       30       1        1  \n",
       "239         23       69       1        1  \n",
       "240         19       65       1        1  \n",
       "\n",
       "[240 rows x 20 columns]"
      ]
     },
     "execution_count": 185,
     "metadata": {},
     "output_type": "execute_result"
    }
   ],
   "source": [
    "df.set_index('id')"
   ]
  },
  {
   "cell_type": "code",
   "execution_count": 186,
   "metadata": {},
   "outputs": [
    {
     "name": "stdout",
     "output_type": "stream",
     "text": [
      "<class 'pandas.core.frame.DataFrame'>\n",
      "RangeIndex: 240 entries, 0 to 239\n",
      "Data columns (total 21 columns):\n",
      " #   Column     Non-Null Count  Dtype\n",
      "---  ------     --------------  -----\n",
      " 0   id         240 non-null    int64\n",
      " 1   site       240 non-null    int64\n",
      " 2   sex        240 non-null    int64\n",
      " 3   age        240 non-null    int64\n",
      " 4   viewcat    240 non-null    int64\n",
      " 5   setting    240 non-null    int64\n",
      " 6   prebody    240 non-null    int64\n",
      " 7   prelet     240 non-null    int64\n",
      " 8   preform    240 non-null    int64\n",
      " 9   prenumb    240 non-null    int64\n",
      " 10  prerelat   240 non-null    int64\n",
      " 11  preclasf   240 non-null    int64\n",
      " 12  postbody   240 non-null    int64\n",
      " 13  postlet    240 non-null    int64\n",
      " 14  postform   240 non-null    int64\n",
      " 15  postnumb   240 non-null    int64\n",
      " 16  postrelat  240 non-null    int64\n",
      " 17  postclasf  240 non-null    int64\n",
      " 18  peabody    240 non-null    int64\n",
      " 19  encour     240 non-null    int64\n",
      " 20  regular    240 non-null    int64\n",
      "dtypes: int64(21)\n",
      "memory usage: 39.5 KB\n"
     ]
    }
   ],
   "source": [
    "df.info()"
   ]
  },
  {
   "cell_type": "code",
   "execution_count": 187,
   "metadata": {},
   "outputs": [
    {
     "data": {
      "text/plain": [
       "id           0\n",
       "site         0\n",
       "sex          0\n",
       "age          0\n",
       "viewcat      0\n",
       "setting      0\n",
       "prebody      0\n",
       "prelet       0\n",
       "preform      0\n",
       "prenumb      0\n",
       "prerelat     0\n",
       "preclasf     0\n",
       "postbody     0\n",
       "postlet      0\n",
       "postform     0\n",
       "postnumb     0\n",
       "postrelat    0\n",
       "postclasf    0\n",
       "peabody      0\n",
       "encour       0\n",
       "regular      0\n",
       "dtype: int64"
      ]
     },
     "execution_count": 187,
     "metadata": {},
     "output_type": "execute_result"
    }
   ],
   "source": [
    "df.isna().sum()"
   ]
  },
  {
   "cell_type": "code",
   "execution_count": 188,
   "metadata": {},
   "outputs": [
    {
     "data": {
      "text/html": [
       "<div>\n",
       "<style scoped>\n",
       "    .dataframe tbody tr th:only-of-type {\n",
       "        vertical-align: middle;\n",
       "    }\n",
       "\n",
       "    .dataframe tbody tr th {\n",
       "        vertical-align: top;\n",
       "    }\n",
       "\n",
       "    .dataframe thead th {\n",
       "        text-align: right;\n",
       "    }\n",
       "</style>\n",
       "<table border=\"1\" class=\"dataframe\">\n",
       "  <thead>\n",
       "    <tr style=\"text-align: right;\">\n",
       "      <th></th>\n",
       "      <th>id</th>\n",
       "      <th>site</th>\n",
       "      <th>sex</th>\n",
       "      <th>age</th>\n",
       "      <th>viewcat</th>\n",
       "      <th>setting</th>\n",
       "      <th>prebody</th>\n",
       "      <th>prelet</th>\n",
       "      <th>preform</th>\n",
       "      <th>prenumb</th>\n",
       "      <th>...</th>\n",
       "      <th>preclasf</th>\n",
       "      <th>postbody</th>\n",
       "      <th>postlet</th>\n",
       "      <th>postform</th>\n",
       "      <th>postnumb</th>\n",
       "      <th>postrelat</th>\n",
       "      <th>postclasf</th>\n",
       "      <th>peabody</th>\n",
       "      <th>encour</th>\n",
       "      <th>regular</th>\n",
       "    </tr>\n",
       "  </thead>\n",
       "  <tbody>\n",
       "    <tr>\n",
       "      <th>count</th>\n",
       "      <td>240.000000</td>\n",
       "      <td>240.000000</td>\n",
       "      <td>240.000000</td>\n",
       "      <td>240.000000</td>\n",
       "      <td>240.000000</td>\n",
       "      <td>240.000000</td>\n",
       "      <td>240.000000</td>\n",
       "      <td>240.000000</td>\n",
       "      <td>240.000000</td>\n",
       "      <td>240.000000</td>\n",
       "      <td>...</td>\n",
       "      <td>240.000000</td>\n",
       "      <td>240.000000</td>\n",
       "      <td>240.000000</td>\n",
       "      <td>240.000000</td>\n",
       "      <td>240.000000</td>\n",
       "      <td>240.000000</td>\n",
       "      <td>240.000000</td>\n",
       "      <td>240.000000</td>\n",
       "      <td>240.000000</td>\n",
       "      <td>240.000000</td>\n",
       "    </tr>\n",
       "    <tr>\n",
       "      <th>mean</th>\n",
       "      <td>120.083333</td>\n",
       "      <td>2.600000</td>\n",
       "      <td>1.520833</td>\n",
       "      <td>51.525000</td>\n",
       "      <td>2.558333</td>\n",
       "      <td>1.404167</td>\n",
       "      <td>21.400000</td>\n",
       "      <td>15.937500</td>\n",
       "      <td>9.925000</td>\n",
       "      <td>20.854167</td>\n",
       "      <td>...</td>\n",
       "      <td>12.233333</td>\n",
       "      <td>25.258333</td>\n",
       "      <td>26.741667</td>\n",
       "      <td>13.737500</td>\n",
       "      <td>30.008333</td>\n",
       "      <td>11.679167</td>\n",
       "      <td>15.737500</td>\n",
       "      <td>46.466667</td>\n",
       "      <td>0.633333</td>\n",
       "      <td>0.775000</td>\n",
       "    </tr>\n",
       "    <tr>\n",
       "      <th>std</th>\n",
       "      <td>69.848561</td>\n",
       "      <td>1.246921</td>\n",
       "      <td>0.500610</td>\n",
       "      <td>6.281356</td>\n",
       "      <td>1.103785</td>\n",
       "      <td>0.491756</td>\n",
       "      <td>6.390893</td>\n",
       "      <td>8.536425</td>\n",
       "      <td>3.734186</td>\n",
       "      <td>10.684893</td>\n",
       "      <td>...</td>\n",
       "      <td>4.642416</td>\n",
       "      <td>5.500849</td>\n",
       "      <td>13.375176</td>\n",
       "      <td>4.001288</td>\n",
       "      <td>12.822572</td>\n",
       "      <td>2.996718</td>\n",
       "      <td>5.150644</td>\n",
       "      <td>16.038621</td>\n",
       "      <td>0.482902</td>\n",
       "      <td>0.418455</td>\n",
       "    </tr>\n",
       "    <tr>\n",
       "      <th>min</th>\n",
       "      <td>0.000000</td>\n",
       "      <td>1.000000</td>\n",
       "      <td>1.000000</td>\n",
       "      <td>34.000000</td>\n",
       "      <td>1.000000</td>\n",
       "      <td>1.000000</td>\n",
       "      <td>6.000000</td>\n",
       "      <td>1.000000</td>\n",
       "      <td>2.000000</td>\n",
       "      <td>1.000000</td>\n",
       "      <td>...</td>\n",
       "      <td>0.000000</td>\n",
       "      <td>11.000000</td>\n",
       "      <td>0.000000</td>\n",
       "      <td>0.000000</td>\n",
       "      <td>0.000000</td>\n",
       "      <td>0.000000</td>\n",
       "      <td>0.000000</td>\n",
       "      <td>8.000000</td>\n",
       "      <td>0.000000</td>\n",
       "      <td>0.000000</td>\n",
       "    </tr>\n",
       "    <tr>\n",
       "      <th>25%</th>\n",
       "      <td>59.750000</td>\n",
       "      <td>1.750000</td>\n",
       "      <td>1.000000</td>\n",
       "      <td>48.000000</td>\n",
       "      <td>2.000000</td>\n",
       "      <td>1.000000</td>\n",
       "      <td>17.000000</td>\n",
       "      <td>11.750000</td>\n",
       "      <td>8.000000</td>\n",
       "      <td>13.000000</td>\n",
       "      <td>...</td>\n",
       "      <td>9.000000</td>\n",
       "      <td>21.750000</td>\n",
       "      <td>15.000000</td>\n",
       "      <td>11.000000</td>\n",
       "      <td>19.000000</td>\n",
       "      <td>10.000000</td>\n",
       "      <td>11.000000</td>\n",
       "      <td>35.000000</td>\n",
       "      <td>0.000000</td>\n",
       "      <td>1.000000</td>\n",
       "    </tr>\n",
       "    <tr>\n",
       "      <th>50%</th>\n",
       "      <td>120.500000</td>\n",
       "      <td>3.000000</td>\n",
       "      <td>2.000000</td>\n",
       "      <td>52.000000</td>\n",
       "      <td>3.000000</td>\n",
       "      <td>1.000000</td>\n",
       "      <td>22.000000</td>\n",
       "      <td>14.000000</td>\n",
       "      <td>10.000000</td>\n",
       "      <td>19.000000</td>\n",
       "      <td>...</td>\n",
       "      <td>12.000000</td>\n",
       "      <td>27.000000</td>\n",
       "      <td>23.000000</td>\n",
       "      <td>14.000000</td>\n",
       "      <td>29.000000</td>\n",
       "      <td>12.000000</td>\n",
       "      <td>16.000000</td>\n",
       "      <td>42.000000</td>\n",
       "      <td>1.000000</td>\n",
       "      <td>1.000000</td>\n",
       "    </tr>\n",
       "    <tr>\n",
       "      <th>75%</th>\n",
       "      <td>180.250000</td>\n",
       "      <td>4.000000</td>\n",
       "      <td>2.000000</td>\n",
       "      <td>56.000000</td>\n",
       "      <td>4.000000</td>\n",
       "      <td>2.000000</td>\n",
       "      <td>26.000000</td>\n",
       "      <td>17.250000</td>\n",
       "      <td>12.000000</td>\n",
       "      <td>27.000000</td>\n",
       "      <td>...</td>\n",
       "      <td>15.000000</td>\n",
       "      <td>29.000000</td>\n",
       "      <td>39.250000</td>\n",
       "      <td>17.000000</td>\n",
       "      <td>41.250000</td>\n",
       "      <td>14.000000</td>\n",
       "      <td>20.000000</td>\n",
       "      <td>58.000000</td>\n",
       "      <td>1.000000</td>\n",
       "      <td>1.000000</td>\n",
       "    </tr>\n",
       "    <tr>\n",
       "      <th>max</th>\n",
       "      <td>240.000000</td>\n",
       "      <td>5.000000</td>\n",
       "      <td>2.000000</td>\n",
       "      <td>69.000000</td>\n",
       "      <td>4.000000</td>\n",
       "      <td>2.000000</td>\n",
       "      <td>32.000000</td>\n",
       "      <td>55.000000</td>\n",
       "      <td>19.000000</td>\n",
       "      <td>52.000000</td>\n",
       "      <td>...</td>\n",
       "      <td>24.000000</td>\n",
       "      <td>39.000000</td>\n",
       "      <td>63.000000</td>\n",
       "      <td>20.000000</td>\n",
       "      <td>54.000000</td>\n",
       "      <td>23.000000</td>\n",
       "      <td>24.000000</td>\n",
       "      <td>99.000000</td>\n",
       "      <td>1.000000</td>\n",
       "      <td>1.000000</td>\n",
       "    </tr>\n",
       "  </tbody>\n",
       "</table>\n",
       "<p>8 rows × 21 columns</p>\n",
       "</div>"
      ],
      "text/plain": [
       "               id        site         sex         age     viewcat     setting  \\\n",
       "count  240.000000  240.000000  240.000000  240.000000  240.000000  240.000000   \n",
       "mean   120.083333    2.600000    1.520833   51.525000    2.558333    1.404167   \n",
       "std     69.848561    1.246921    0.500610    6.281356    1.103785    0.491756   \n",
       "min      0.000000    1.000000    1.000000   34.000000    1.000000    1.000000   \n",
       "25%     59.750000    1.750000    1.000000   48.000000    2.000000    1.000000   \n",
       "50%    120.500000    3.000000    2.000000   52.000000    3.000000    1.000000   \n",
       "75%    180.250000    4.000000    2.000000   56.000000    4.000000    2.000000   \n",
       "max    240.000000    5.000000    2.000000   69.000000    4.000000    2.000000   \n",
       "\n",
       "          prebody      prelet     preform     prenumb  ...    preclasf  \\\n",
       "count  240.000000  240.000000  240.000000  240.000000  ...  240.000000   \n",
       "mean    21.400000   15.937500    9.925000   20.854167  ...   12.233333   \n",
       "std      6.390893    8.536425    3.734186   10.684893  ...    4.642416   \n",
       "min      6.000000    1.000000    2.000000    1.000000  ...    0.000000   \n",
       "25%     17.000000   11.750000    8.000000   13.000000  ...    9.000000   \n",
       "50%     22.000000   14.000000   10.000000   19.000000  ...   12.000000   \n",
       "75%     26.000000   17.250000   12.000000   27.000000  ...   15.000000   \n",
       "max     32.000000   55.000000   19.000000   52.000000  ...   24.000000   \n",
       "\n",
       "         postbody     postlet    postform    postnumb   postrelat   postclasf  \\\n",
       "count  240.000000  240.000000  240.000000  240.000000  240.000000  240.000000   \n",
       "mean    25.258333   26.741667   13.737500   30.008333   11.679167   15.737500   \n",
       "std      5.500849   13.375176    4.001288   12.822572    2.996718    5.150644   \n",
       "min     11.000000    0.000000    0.000000    0.000000    0.000000    0.000000   \n",
       "25%     21.750000   15.000000   11.000000   19.000000   10.000000   11.000000   \n",
       "50%     27.000000   23.000000   14.000000   29.000000   12.000000   16.000000   \n",
       "75%     29.000000   39.250000   17.000000   41.250000   14.000000   20.000000   \n",
       "max     39.000000   63.000000   20.000000   54.000000   23.000000   24.000000   \n",
       "\n",
       "          peabody      encour     regular  \n",
       "count  240.000000  240.000000  240.000000  \n",
       "mean    46.466667    0.633333    0.775000  \n",
       "std     16.038621    0.482902    0.418455  \n",
       "min      8.000000    0.000000    0.000000  \n",
       "25%     35.000000    0.000000    1.000000  \n",
       "50%     42.000000    1.000000    1.000000  \n",
       "75%     58.000000    1.000000    1.000000  \n",
       "max     99.000000    1.000000    1.000000  \n",
       "\n",
       "[8 rows x 21 columns]"
      ]
     },
     "execution_count": 188,
     "metadata": {},
     "output_type": "execute_result"
    }
   ],
   "source": [
    "df.describe()"
   ]
  },
  {
   "cell_type": "code",
   "execution_count": 189,
   "metadata": {},
   "outputs": [],
   "source": [
    "df['deltabody'] = df['postbody'] - df['prebody']\n",
    "df['deltalet'] = df['postlet'] - df['prelet']\n",
    "df['deltanumb'] = df['postnumb'] - df['prenumb']\n",
    "df['deltarelat'] = df['postrelat'] - df['prerelat']\n",
    "df['deltaclasf'] = df['postclasf'] - df['preclasf']"
   ]
  },
  {
   "cell_type": "code",
   "execution_count": 190,
   "metadata": {},
   "outputs": [
    {
     "data": {
      "text/html": [
       "<div>\n",
       "<style scoped>\n",
       "    .dataframe tbody tr th:only-of-type {\n",
       "        vertical-align: middle;\n",
       "    }\n",
       "\n",
       "    .dataframe tbody tr th {\n",
       "        vertical-align: top;\n",
       "    }\n",
       "\n",
       "    .dataframe thead th {\n",
       "        text-align: right;\n",
       "    }\n",
       "</style>\n",
       "<table border=\"1\" class=\"dataframe\">\n",
       "  <thead>\n",
       "    <tr style=\"text-align: right;\">\n",
       "      <th></th>\n",
       "      <th>prelet</th>\n",
       "      <th>postlet</th>\n",
       "      <th>deltalet</th>\n",
       "    </tr>\n",
       "  </thead>\n",
       "  <tbody>\n",
       "    <tr>\n",
       "      <th>0</th>\n",
       "      <td>23</td>\n",
       "      <td>30</td>\n",
       "      <td>7</td>\n",
       "    </tr>\n",
       "    <tr>\n",
       "      <th>1</th>\n",
       "      <td>26</td>\n",
       "      <td>37</td>\n",
       "      <td>11</td>\n",
       "    </tr>\n",
       "    <tr>\n",
       "      <th>2</th>\n",
       "      <td>14</td>\n",
       "      <td>46</td>\n",
       "      <td>32</td>\n",
       "    </tr>\n",
       "    <tr>\n",
       "      <th>3</th>\n",
       "      <td>11</td>\n",
       "      <td>14</td>\n",
       "      <td>3</td>\n",
       "    </tr>\n",
       "    <tr>\n",
       "      <th>4</th>\n",
       "      <td>47</td>\n",
       "      <td>63</td>\n",
       "      <td>16</td>\n",
       "    </tr>\n",
       "    <tr>\n",
       "      <th>...</th>\n",
       "      <td>...</td>\n",
       "      <td>...</td>\n",
       "      <td>...</td>\n",
       "    </tr>\n",
       "    <tr>\n",
       "      <th>235</th>\n",
       "      <td>15</td>\n",
       "      <td>33</td>\n",
       "      <td>18</td>\n",
       "    </tr>\n",
       "    <tr>\n",
       "      <th>236</th>\n",
       "      <td>16</td>\n",
       "      <td>26</td>\n",
       "      <td>10</td>\n",
       "    </tr>\n",
       "    <tr>\n",
       "      <th>237</th>\n",
       "      <td>13</td>\n",
       "      <td>19</td>\n",
       "      <td>6</td>\n",
       "    </tr>\n",
       "    <tr>\n",
       "      <th>238</th>\n",
       "      <td>16</td>\n",
       "      <td>35</td>\n",
       "      <td>19</td>\n",
       "    </tr>\n",
       "    <tr>\n",
       "      <th>239</th>\n",
       "      <td>11</td>\n",
       "      <td>32</td>\n",
       "      <td>21</td>\n",
       "    </tr>\n",
       "  </tbody>\n",
       "</table>\n",
       "<p>240 rows × 3 columns</p>\n",
       "</div>"
      ],
      "text/plain": [
       "     prelet  postlet  deltalet\n",
       "0        23       30         7\n",
       "1        26       37        11\n",
       "2        14       46        32\n",
       "3        11       14         3\n",
       "4        47       63        16\n",
       "..      ...      ...       ...\n",
       "235      15       33        18\n",
       "236      16       26        10\n",
       "237      13       19         6\n",
       "238      16       35        19\n",
       "239      11       32        21\n",
       "\n",
       "[240 rows x 3 columns]"
      ]
     },
     "execution_count": 190,
     "metadata": {},
     "output_type": "execute_result"
    }
   ],
   "source": [
    "df[['prelet', 'postlet', 'deltalet']]"
   ]
  },
  {
   "cell_type": "code",
   "execution_count": 191,
   "metadata": {},
   "outputs": [
    {
     "data": {
      "text/html": [
       "<div>\n",
       "<style scoped>\n",
       "    .dataframe tbody tr th:only-of-type {\n",
       "        vertical-align: middle;\n",
       "    }\n",
       "\n",
       "    .dataframe tbody tr th {\n",
       "        vertical-align: top;\n",
       "    }\n",
       "\n",
       "    .dataframe thead th {\n",
       "        text-align: right;\n",
       "    }\n",
       "</style>\n",
       "<table border=\"1\" class=\"dataframe\">\n",
       "  <thead>\n",
       "    <tr style=\"text-align: right;\">\n",
       "      <th></th>\n",
       "      <th>id</th>\n",
       "      <th>site</th>\n",
       "      <th>sex</th>\n",
       "      <th>age</th>\n",
       "      <th>viewcat</th>\n",
       "      <th>setting</th>\n",
       "      <th>prebody</th>\n",
       "      <th>prelet</th>\n",
       "      <th>preform</th>\n",
       "      <th>prenumb</th>\n",
       "      <th>...</th>\n",
       "      <th>postrelat</th>\n",
       "      <th>postclasf</th>\n",
       "      <th>peabody</th>\n",
       "      <th>encour</th>\n",
       "      <th>regular</th>\n",
       "      <th>deltabody</th>\n",
       "      <th>deltalet</th>\n",
       "      <th>deltanumb</th>\n",
       "      <th>deltarelat</th>\n",
       "      <th>deltaclasf</th>\n",
       "    </tr>\n",
       "  </thead>\n",
       "  <tbody>\n",
       "    <tr>\n",
       "      <th>count</th>\n",
       "      <td>240.000000</td>\n",
       "      <td>240.000000</td>\n",
       "      <td>240.000000</td>\n",
       "      <td>240.000000</td>\n",
       "      <td>240.000000</td>\n",
       "      <td>240.000000</td>\n",
       "      <td>240.000000</td>\n",
       "      <td>240.000000</td>\n",
       "      <td>240.000000</td>\n",
       "      <td>240.000000</td>\n",
       "      <td>...</td>\n",
       "      <td>240.000000</td>\n",
       "      <td>240.000000</td>\n",
       "      <td>240.000000</td>\n",
       "      <td>240.000000</td>\n",
       "      <td>240.000000</td>\n",
       "      <td>240.000000</td>\n",
       "      <td>240.000000</td>\n",
       "      <td>240.000000</td>\n",
       "      <td>240.000000</td>\n",
       "      <td>240.000000</td>\n",
       "    </tr>\n",
       "    <tr>\n",
       "      <th>mean</th>\n",
       "      <td>120.083333</td>\n",
       "      <td>2.600000</td>\n",
       "      <td>1.520833</td>\n",
       "      <td>51.525000</td>\n",
       "      <td>2.558333</td>\n",
       "      <td>1.404167</td>\n",
       "      <td>21.400000</td>\n",
       "      <td>15.937500</td>\n",
       "      <td>9.925000</td>\n",
       "      <td>20.854167</td>\n",
       "      <td>...</td>\n",
       "      <td>11.679167</td>\n",
       "      <td>15.737500</td>\n",
       "      <td>46.466667</td>\n",
       "      <td>0.633333</td>\n",
       "      <td>0.775000</td>\n",
       "      <td>3.858333</td>\n",
       "      <td>10.804167</td>\n",
       "      <td>9.154167</td>\n",
       "      <td>1.741667</td>\n",
       "      <td>3.504167</td>\n",
       "    </tr>\n",
       "    <tr>\n",
       "      <th>std</th>\n",
       "      <td>69.848561</td>\n",
       "      <td>1.246921</td>\n",
       "      <td>0.500610</td>\n",
       "      <td>6.281356</td>\n",
       "      <td>1.103785</td>\n",
       "      <td>0.491756</td>\n",
       "      <td>6.390893</td>\n",
       "      <td>8.536425</td>\n",
       "      <td>3.734186</td>\n",
       "      <td>10.684893</td>\n",
       "      <td>...</td>\n",
       "      <td>2.996718</td>\n",
       "      <td>5.150644</td>\n",
       "      <td>16.038621</td>\n",
       "      <td>0.482902</td>\n",
       "      <td>0.418455</td>\n",
       "      <td>5.072357</td>\n",
       "      <td>11.168132</td>\n",
       "      <td>9.695208</td>\n",
       "      <td>3.476149</td>\n",
       "      <td>4.478678</td>\n",
       "    </tr>\n",
       "    <tr>\n",
       "      <th>min</th>\n",
       "      <td>0.000000</td>\n",
       "      <td>1.000000</td>\n",
       "      <td>1.000000</td>\n",
       "      <td>34.000000</td>\n",
       "      <td>1.000000</td>\n",
       "      <td>1.000000</td>\n",
       "      <td>6.000000</td>\n",
       "      <td>1.000000</td>\n",
       "      <td>2.000000</td>\n",
       "      <td>1.000000</td>\n",
       "      <td>...</td>\n",
       "      <td>0.000000</td>\n",
       "      <td>0.000000</td>\n",
       "      <td>8.000000</td>\n",
       "      <td>0.000000</td>\n",
       "      <td>0.000000</td>\n",
       "      <td>-11.000000</td>\n",
       "      <td>-22.000000</td>\n",
       "      <td>-35.000000</td>\n",
       "      <td>-10.000000</td>\n",
       "      <td>-7.000000</td>\n",
       "    </tr>\n",
       "    <tr>\n",
       "      <th>25%</th>\n",
       "      <td>59.750000</td>\n",
       "      <td>1.750000</td>\n",
       "      <td>1.000000</td>\n",
       "      <td>48.000000</td>\n",
       "      <td>2.000000</td>\n",
       "      <td>1.000000</td>\n",
       "      <td>17.000000</td>\n",
       "      <td>11.750000</td>\n",
       "      <td>8.000000</td>\n",
       "      <td>13.000000</td>\n",
       "      <td>...</td>\n",
       "      <td>10.000000</td>\n",
       "      <td>11.000000</td>\n",
       "      <td>35.000000</td>\n",
       "      <td>0.000000</td>\n",
       "      <td>1.000000</td>\n",
       "      <td>0.750000</td>\n",
       "      <td>3.000000</td>\n",
       "      <td>3.000000</td>\n",
       "      <td>0.000000</td>\n",
       "      <td>0.000000</td>\n",
       "    </tr>\n",
       "    <tr>\n",
       "      <th>50%</th>\n",
       "      <td>120.500000</td>\n",
       "      <td>3.000000</td>\n",
       "      <td>2.000000</td>\n",
       "      <td>52.000000</td>\n",
       "      <td>3.000000</td>\n",
       "      <td>1.000000</td>\n",
       "      <td>22.000000</td>\n",
       "      <td>14.000000</td>\n",
       "      <td>10.000000</td>\n",
       "      <td>19.000000</td>\n",
       "      <td>...</td>\n",
       "      <td>12.000000</td>\n",
       "      <td>16.000000</td>\n",
       "      <td>42.000000</td>\n",
       "      <td>1.000000</td>\n",
       "      <td>1.000000</td>\n",
       "      <td>4.000000</td>\n",
       "      <td>9.000000</td>\n",
       "      <td>9.000000</td>\n",
       "      <td>2.000000</td>\n",
       "      <td>3.000000</td>\n",
       "    </tr>\n",
       "    <tr>\n",
       "      <th>75%</th>\n",
       "      <td>180.250000</td>\n",
       "      <td>4.000000</td>\n",
       "      <td>2.000000</td>\n",
       "      <td>56.000000</td>\n",
       "      <td>4.000000</td>\n",
       "      <td>2.000000</td>\n",
       "      <td>26.000000</td>\n",
       "      <td>17.250000</td>\n",
       "      <td>12.000000</td>\n",
       "      <td>27.000000</td>\n",
       "      <td>...</td>\n",
       "      <td>14.000000</td>\n",
       "      <td>20.000000</td>\n",
       "      <td>58.000000</td>\n",
       "      <td>1.000000</td>\n",
       "      <td>1.000000</td>\n",
       "      <td>7.000000</td>\n",
       "      <td>18.000000</td>\n",
       "      <td>15.000000</td>\n",
       "      <td>4.000000</td>\n",
       "      <td>7.000000</td>\n",
       "    </tr>\n",
       "    <tr>\n",
       "      <th>max</th>\n",
       "      <td>240.000000</td>\n",
       "      <td>5.000000</td>\n",
       "      <td>2.000000</td>\n",
       "      <td>69.000000</td>\n",
       "      <td>4.000000</td>\n",
       "      <td>2.000000</td>\n",
       "      <td>32.000000</td>\n",
       "      <td>55.000000</td>\n",
       "      <td>19.000000</td>\n",
       "      <td>52.000000</td>\n",
       "      <td>...</td>\n",
       "      <td>23.000000</td>\n",
       "      <td>24.000000</td>\n",
       "      <td>99.000000</td>\n",
       "      <td>1.000000</td>\n",
       "      <td>1.000000</td>\n",
       "      <td>23.000000</td>\n",
       "      <td>41.000000</td>\n",
       "      <td>33.000000</td>\n",
       "      <td>13.000000</td>\n",
       "      <td>14.000000</td>\n",
       "    </tr>\n",
       "  </tbody>\n",
       "</table>\n",
       "<p>8 rows × 26 columns</p>\n",
       "</div>"
      ],
      "text/plain": [
       "               id        site         sex         age     viewcat     setting  \\\n",
       "count  240.000000  240.000000  240.000000  240.000000  240.000000  240.000000   \n",
       "mean   120.083333    2.600000    1.520833   51.525000    2.558333    1.404167   \n",
       "std     69.848561    1.246921    0.500610    6.281356    1.103785    0.491756   \n",
       "min      0.000000    1.000000    1.000000   34.000000    1.000000    1.000000   \n",
       "25%     59.750000    1.750000    1.000000   48.000000    2.000000    1.000000   \n",
       "50%    120.500000    3.000000    2.000000   52.000000    3.000000    1.000000   \n",
       "75%    180.250000    4.000000    2.000000   56.000000    4.000000    2.000000   \n",
       "max    240.000000    5.000000    2.000000   69.000000    4.000000    2.000000   \n",
       "\n",
       "          prebody      prelet     preform     prenumb  ...   postrelat  \\\n",
       "count  240.000000  240.000000  240.000000  240.000000  ...  240.000000   \n",
       "mean    21.400000   15.937500    9.925000   20.854167  ...   11.679167   \n",
       "std      6.390893    8.536425    3.734186   10.684893  ...    2.996718   \n",
       "min      6.000000    1.000000    2.000000    1.000000  ...    0.000000   \n",
       "25%     17.000000   11.750000    8.000000   13.000000  ...   10.000000   \n",
       "50%     22.000000   14.000000   10.000000   19.000000  ...   12.000000   \n",
       "75%     26.000000   17.250000   12.000000   27.000000  ...   14.000000   \n",
       "max     32.000000   55.000000   19.000000   52.000000  ...   23.000000   \n",
       "\n",
       "        postclasf     peabody      encour     regular   deltabody    deltalet  \\\n",
       "count  240.000000  240.000000  240.000000  240.000000  240.000000  240.000000   \n",
       "mean    15.737500   46.466667    0.633333    0.775000    3.858333   10.804167   \n",
       "std      5.150644   16.038621    0.482902    0.418455    5.072357   11.168132   \n",
       "min      0.000000    8.000000    0.000000    0.000000  -11.000000  -22.000000   \n",
       "25%     11.000000   35.000000    0.000000    1.000000    0.750000    3.000000   \n",
       "50%     16.000000   42.000000    1.000000    1.000000    4.000000    9.000000   \n",
       "75%     20.000000   58.000000    1.000000    1.000000    7.000000   18.000000   \n",
       "max     24.000000   99.000000    1.000000    1.000000   23.000000   41.000000   \n",
       "\n",
       "        deltanumb  deltarelat  deltaclasf  \n",
       "count  240.000000  240.000000  240.000000  \n",
       "mean     9.154167    1.741667    3.504167  \n",
       "std      9.695208    3.476149    4.478678  \n",
       "min    -35.000000  -10.000000   -7.000000  \n",
       "25%      3.000000    0.000000    0.000000  \n",
       "50%      9.000000    2.000000    3.000000  \n",
       "75%     15.000000    4.000000    7.000000  \n",
       "max     33.000000   13.000000   14.000000  \n",
       "\n",
       "[8 rows x 26 columns]"
      ]
     },
     "execution_count": 191,
     "metadata": {},
     "output_type": "execute_result"
    }
   ],
   "source": [
    "df.describe()"
   ]
  },
  {
   "cell_type": "code",
   "execution_count": 192,
   "metadata": {},
   "outputs": [
    {
     "data": {
      "text/plain": [
       "15.53968253968254"
      ]
     },
     "execution_count": 192,
     "metadata": {},
     "output_type": "execute_result"
    }
   ],
   "source": [
    "df[df['viewcat'] >=3]['deltalet'].mean()"
   ]
  },
  {
   "cell_type": "code",
   "execution_count": 193,
   "metadata": {},
   "outputs": [
    {
     "data": {
      "text/plain": [
       "0.9951406245781623"
      ]
     },
     "execution_count": 193,
     "metadata": {},
     "output_type": "execute_result"
    }
   ],
   "source": [
    "df[df['viewcat'] >=3]['deltalet'].sem()"
   ]
  },
  {
   "cell_type": "code",
   "execution_count": 194,
   "metadata": {},
   "outputs": [
    {
     "data": {
      "text/plain": [
       "5.5701754385964914"
      ]
     },
     "execution_count": 194,
     "metadata": {},
     "output_type": "execute_result"
    }
   ],
   "source": [
    "df[df['viewcat'] < 3]['deltalet'].mean()"
   ]
  },
  {
   "cell_type": "code",
   "execution_count": 195,
   "metadata": {},
   "outputs": [
    {
     "data": {
      "text/plain": [
       "0.800943522380581"
      ]
     },
     "execution_count": 195,
     "metadata": {},
     "output_type": "execute_result"
    }
   ],
   "source": [
    "df[df['viewcat'] < 3]['deltalet'].sem()"
   ]
  },
  {
   "cell_type": "markdown",
   "metadata": {},
   "source": [
    "**The change in reading letter recognition among viewing categories**"
   ]
  },
  {
   "cell_type": "code",
   "execution_count": 196,
   "metadata": {},
   "outputs": [
    {
     "data": {
      "image/png": "[encoded data removed]",
      "text/plain": [
       "<Figure size 720x504 with 1 Axes>"
      ]
     },
     "metadata": {
      "needs_background": "light"
     },
     "output_type": "display_data"
    }
   ],
   "source": [
    "plt.figure(figsize=(10,7))\n",
    "plt.title(\"The change in reading letter recognition among viewing categories\")\n",
    "sns.violinplot(data=df, x='viewcat', y='deltalet', palette='Blues');"
   ]
  },
  {
   "cell_type": "code",
   "execution_count": 197,
   "metadata": {},
   "outputs": [
    {
     "data": {
      "image/png": "[encoded data removed]",
      "text/plain": [
       "<Figure size 720x504 with 1 Axes>"
      ]
     },
     "metadata": {
      "needs_background": "light"
     },
     "output_type": "display_data"
    }
   ],
   "source": [
    "plt.figure(figsize=(10,7))\n",
    "plt.title(\"Change in literacy for regular viewers colored by social background\")\n",
    "sns.boxplot(data=df, x='regular', y='deltalet', hue='site', palette='Oranges');"
   ]
  },
  {
   "cell_type": "code",
   "execution_count": 198,
   "metadata": {},
   "outputs": [],
   "source": [
    "# We could bootstrap the data, but we don't really need to. I left this here from a previous version.\n",
    "#upsample_df = df.sample(frac=10, replace=True, random_state=99)\n",
    "#upsample_df"
   ]
  },
  {
   "cell_type": "code",
   "execution_count": 199,
   "metadata": {},
   "outputs": [],
   "source": [
    "from scipy.stats import pearsonr, ttest_ind, kendalltau, f_oneway, norm"
   ]
  },
  {
   "cell_type": "markdown",
   "metadata": {},
   "source": [
    "According to the pearsonr function there is a clear correlation between regular viewing and change in letter recognition."
   ]
  },
  {
   "cell_type": "code",
   "execution_count": 200,
   "metadata": {},
   "outputs": [
    {
     "data": {
      "text/plain": [
       "(0.4023740785500862, 9.366032497584664e-11)"
      ]
     },
     "execution_count": 200,
     "metadata": {},
     "output_type": "execute_result"
    }
   ],
   "source": [
    "pearsonr(df['deltalet'], df['regular'])"
   ]
  },
  {
   "cell_type": "markdown",
   "metadata": {},
   "source": [
    "Kendall's tau is a correlation measure for ordinal data. We can use this one for viewing category. (category 1 are the children who watched the least, and 4 the most).\n",
    "\n",
    "**The kendalltau function says there is a strong correlation between viewing category and change in letter knowledge.**"
   ]
  },
  {
   "cell_type": "code",
   "execution_count": 201,
   "metadata": {},
   "outputs": [
    {
     "data": {
      "text/plain": [
       "KendalltauResult(correlation=0.3865032268204643, pvalue=3.188674053565711e-15)"
      ]
     },
     "execution_count": 201,
     "metadata": {},
     "output_type": "execute_result"
    }
   ],
   "source": [
    "kendalltau(df['deltalet'], df['viewcat'])"
   ]
  },
  {
   "cell_type": "markdown",
   "metadata": {},
   "source": [
    "**Can we reject the null hypothesis? Are the two samples from the same distribution? Or the regular viewers have a higher literacy mean than the population?**"
   ]
  },
  {
   "cell_type": "code",
   "execution_count": 202,
   "metadata": {},
   "outputs": [
    {
     "data": {
      "image/png": "[encoded data removed]",
      "text/plain": [
       "<Figure size 583.875x360 with 1 Axes>"
      ]
     },
     "metadata": {
      "needs_background": "light"
     },
     "output_type": "display_data"
    }
   ],
   "source": [
    "sns.displot(data=upsample_df, x='deltalet', hue='regular', kind='kde', fill=True, palette='seismic', height=5, aspect=1.5, legend=True)\n",
    "plt.title(\"The literacy distributions of regular and nonregular viewers\");"
   ]
  },
  {
   "cell_type": "markdown",
   "metadata": {},
   "source": [
    "The kurtosis among regular viewers is not completely normal because it encompasses different viewing categories. As we've seen, the higher catagories give better results. There might be some diminishing returns after a while though."
   ]
  },
  {
   "cell_type": "code",
   "execution_count": 203,
   "metadata": {},
   "outputs": [],
   "source": [
    "mu_reg = df[df['regular'] == 1]['deltalet'].mean()   #Mean  regulars\n",
    "sig_reg = df[df['regular'] == 1]['deltalet'].std() #sigma\n",
    "n_reg = len(df[df['regular'] == 1]['deltalet']) #count"
   ]
  },
  {
   "cell_type": "code",
   "execution_count": 204,
   "metadata": {},
   "outputs": [],
   "source": [
    "mu_noreg = df[df['regular'] == 0]['deltalet'].mean()  #Mean non regular watchers\n",
    "sig_noreg= df[df['regular'] == 0]['deltalet'].std()\n",
    "n_noreg = len(df[df['regular'] == 0]['deltalet'])"
   ]
  },
  {
   "cell_type": "markdown",
   "metadata": {},
   "source": [
    "## The two sample t test"
   ]
  },
  {
   "cell_type": "code",
   "execution_count": 205,
   "metadata": {},
   "outputs": [
    {
     "name": "stdout",
     "output_type": "stream",
     "text": [
      "Our t statistic for the two sample means:  8.773\n"
     ]
    }
   ],
   "source": [
    "# our alpha value would be 0.05\n",
    "\n",
    "mu_diff = mu_reg - mu_noreg    #hypothesized estimate \n",
    "\n",
    "#mu_diff_hyp = 0   #null hypothesis: difference of two means = zero\n",
    "\n",
    "test_statistic = mu_diff / np.sqrt(((sig_reg**2)/n_reg)+((sig_noreg**2)/n_noreg))\n",
    "\n",
    "\n",
    "print(\"Our t statistic for the two sample means: \", np.around(test_statistic, 3))"
   ]
  },
  {
   "cell_type": "markdown",
   "metadata": {},
   "source": [
    "## The t-score is *very* high. We reject the null hypothesis. **It seems clear that regular viewing makes a difference.**\n",
    "\n",
    "![alt text](tmonster.jpg)"
   ]
  },
  {
   "cell_type": "code",
   "execution_count": 206,
   "metadata": {},
   "outputs": [
    {
     "data": {
      "text/plain": [
       "0.0"
      ]
     },
     "execution_count": 206,
     "metadata": {},
     "output_type": "execute_result"
    }
   ],
   "source": [
    "pvalue = 2*norm.cdf(-np.abs(test_statistic))\n",
    "round(pvalue, 4)\n"
   ]
  },
  {
   "cell_type": "code",
   "execution_count": 207,
   "metadata": {},
   "outputs": [
    {
     "data": {
      "text/plain": [
       "238"
      ]
     },
     "execution_count": 207,
     "metadata": {},
     "output_type": "execute_result"
    }
   ],
   "source": [
    "degfree = n_reg+n_noreg - 2\n",
    "degfree"
   ]
  },
  {
   "cell_type": "code",
   "execution_count": 208,
   "metadata": {},
   "outputs": [],
   "source": [
    "# This would be the scipy version\n",
    "#ttest_ind(df[df['regular'] == 1]['deltalet'], df[df['regular'] == 0]['deltalet'], alternative='greater')"
   ]
  },
  {
   "cell_type": "code",
   "execution_count": 209,
   "metadata": {},
   "outputs": [
    {
     "data": {
      "text/plain": [
       "<seaborn.axisgrid.FacetGrid at 0x7fb74f9f2d90>"
      ]
     },
     "execution_count": 209,
     "metadata": {},
     "output_type": "execute_result"
    },
    {
     "data": {
      "image/png": "[encoded data removed]",
      "text/plain": [
       "<Figure size 360x360 with 1 Axes>"
      ]
     },
     "metadata": {
      "needs_background": "light"
     },
     "output_type": "display_data"
    }
   ],
   "source": [
    "sns.displot(df['deltalet'])"
   ]
  },
  {
   "cell_type": "code",
   "execution_count": 210,
   "metadata": {},
   "outputs": [
    {
     "data": {
      "text/plain": [
       "F_onewayResult(statistic=29.77719977455154, pvalue=2.906102909805865e-12)"
      ]
     },
     "execution_count": 210,
     "metadata": {},
     "output_type": "execute_result"
    }
   ],
   "source": [
    "# anova\n",
    "first = df[df['viewcat'] <=2]['deltalet']\n",
    "second = df[df['viewcat'] == 3]['deltalet']\n",
    "third = df[df['viewcat'] == 4]['deltalet']\n",
    "f_oneway(first, second, third)"
   ]
  },
  {
   "cell_type": "markdown",
   "metadata": {},
   "source": [
    "## Linear regression\n",
    "\n",
    "We will also fit a linear regression model on the dataset, and we will check which coefficients give us the strongest signal."
   ]
  },
  {
   "cell_type": "code",
   "execution_count": 211,
   "metadata": {},
   "outputs": [],
   "source": [
    "X = df[['site',\t'sex', 'age','setting', 'peabody', 'encour', 'regular', 'prebody', 'prelet', 'preform', 'prenumb', 'preclasf']]\n",
    "#X = df[['site', 'setting',  'encour', 'regular']]\n",
    "\n",
    "y = df['deltalet']"
   ]
  },
  {
   "cell_type": "code",
   "execution_count": 212,
   "metadata": {},
   "outputs": [],
   "source": [
    "from sklearn.model_selection import train_test_split\n",
    "from sklearn.linear_model import LinearRegression"
   ]
  },
  {
   "cell_type": "code",
   "execution_count": 213,
   "metadata": {},
   "outputs": [],
   "source": [
    "X_train, X_test, y_train, y_test = train_test_split(X, y, test_size=0.2, random_state=567)"
   ]
  },
  {
   "cell_type": "code",
   "execution_count": 214,
   "metadata": {},
   "outputs": [],
   "source": [
    "model = LinearRegression()"
   ]
  },
  {
   "cell_type": "code",
   "execution_count": 215,
   "metadata": {},
   "outputs": [
    {
     "data": {
      "text/plain": [
       "LinearRegression()"
      ]
     },
     "execution_count": 215,
     "metadata": {},
     "output_type": "execute_result"
    }
   ],
   "source": [
    "model.fit(X_train,y_train)"
   ]
  },
  {
   "cell_type": "code",
   "execution_count": 216,
   "metadata": {},
   "outputs": [],
   "source": [
    "test_predictions = model.predict(X_test)"
   ]
  },
  {
   "cell_type": "code",
   "execution_count": 217,
   "metadata": {},
   "outputs": [],
   "source": [
    "from sklearn.metrics import mean_absolute_error,mean_squared_error"
   ]
  },
  {
   "cell_type": "code",
   "execution_count": 218,
   "metadata": {},
   "outputs": [],
   "source": [
    "MAE = mean_absolute_error(y_test,test_predictions)\n",
    "MSE = mean_squared_error(y_test,test_predictions)\n",
    "RMSE = np.sqrt(MSE)"
   ]
  },
  {
   "cell_type": "code",
   "execution_count": 219,
   "metadata": {},
   "outputs": [
    {
     "data": {
      "text/plain": [
       "11.168132306655755"
      ]
     },
     "execution_count": 219,
     "metadata": {},
     "output_type": "execute_result"
    }
   ],
   "source": [
    "df['deltalet'].std()"
   ]
  },
  {
   "cell_type": "code",
   "execution_count": 220,
   "metadata": {},
   "outputs": [
    {
     "data": {
      "text/plain": [
       "8.23040009144033"
      ]
     },
     "execution_count": 220,
     "metadata": {},
     "output_type": "execute_result"
    }
   ],
   "source": [
    "MAE"
   ]
  },
  {
   "cell_type": "code",
   "execution_count": 221,
   "metadata": {},
   "outputs": [
    {
     "data": {
      "text/plain": [
       "10.119284646418603"
      ]
     },
     "execution_count": 221,
     "metadata": {},
     "output_type": "execute_result"
    }
   ],
   "source": [
    "RMSE"
   ]
  },
  {
   "cell_type": "code",
   "execution_count": 222,
   "metadata": {},
   "outputs": [],
   "source": [
    "test_res = y_test - test_predictions"
   ]
  },
  {
   "cell_type": "code",
   "execution_count": 223,
   "metadata": {},
   "outputs": [
    {
     "data": {
      "text/plain": [
       "<matplotlib.lines.Line2D at 0x7fb74f890130>"
      ]
     },
     "execution_count": 223,
     "metadata": {},
     "output_type": "execute_result"
    },
    {
     "data": {
      "image/png": "[encoded data removed]",
      "text/plain": [
       "<Figure size 432x288 with 1 Axes>"
      ]
     },
     "metadata": {
      "needs_background": "light"
     },
     "output_type": "display_data"
    }
   ],
   "source": [
    "sns.scatterplot(x=y_test,y=test_res)\n",
    "plt.axhline(y=0, color='r', linestyle='--')"
   ]
  },
  {
   "cell_type": "markdown",
   "metadata": {},
   "source": [
    "> In order to make valid inferences from your regression, the residuals of the regression should follow a normal distribution. The residuals are simply the error terms, or the differences between the observed value of the dependent variable and the predicted value."
   ]
  },
  {
   "cell_type": "code",
   "execution_count": 224,
   "metadata": {},
   "outputs": [
    {
     "data": {
      "text/plain": [
       "<seaborn.axisgrid.FacetGrid at 0x7fb74f2b6ca0>"
      ]
     },
     "execution_count": 224,
     "metadata": {},
     "output_type": "execute_result"
    },
    {
     "data": {
      "image/png": "[encoded data removed]",
      "text/plain": [
       "<Figure size 360x360 with 1 Axes>"
      ]
     },
     "metadata": {
      "needs_background": "light"
     },
     "output_type": "display_data"
    }
   ],
   "source": [
    "sns.displot(test_res,bins=25,kde=True)"
   ]
  },
  {
   "cell_type": "code",
   "execution_count": 225,
   "metadata": {},
   "outputs": [
    {
     "data": {
      "text/plain": [
       "array([-8.73335704e-01,  2.20712634e-01,  1.47718680e-01,  6.99363371e-01,\n",
       "        1.56744720e-01,  2.27772997e+00,  6.16928305e+00,  4.07415070e-01,\n",
       "       -5.48138550e-01,  4.07208246e-01,  2.01857520e-03, -1.60455330e-01])"
      ]
     },
     "execution_count": 225,
     "metadata": {},
     "output_type": "execute_result"
    }
   ],
   "source": [
    "model.coef_"
   ]
  },
  {
   "cell_type": "code",
   "execution_count": 226,
   "metadata": {},
   "outputs": [
    {
     "data": {
      "text/html": [
       "<div>\n",
       "<style scoped>\n",
       "    .dataframe tbody tr th:only-of-type {\n",
       "        vertical-align: middle;\n",
       "    }\n",
       "\n",
       "    .dataframe tbody tr th {\n",
       "        vertical-align: top;\n",
       "    }\n",
       "\n",
       "    .dataframe thead th {\n",
       "        text-align: right;\n",
       "    }\n",
       "</style>\n",
       "<table border=\"1\" class=\"dataframe\">\n",
       "  <thead>\n",
       "    <tr style=\"text-align: right;\">\n",
       "      <th></th>\n",
       "      <th>Coefficient</th>\n",
       "    </tr>\n",
       "  </thead>\n",
       "  <tbody>\n",
       "    <tr>\n",
       "      <th>regular</th>\n",
       "      <td>6.169283</td>\n",
       "    </tr>\n",
       "    <tr>\n",
       "      <th>encour</th>\n",
       "      <td>2.277730</td>\n",
       "    </tr>\n",
       "    <tr>\n",
       "      <th>setting</th>\n",
       "      <td>0.699363</td>\n",
       "    </tr>\n",
       "    <tr>\n",
       "      <th>prebody</th>\n",
       "      <td>0.407415</td>\n",
       "    </tr>\n",
       "    <tr>\n",
       "      <th>preform</th>\n",
       "      <td>0.407208</td>\n",
       "    </tr>\n",
       "    <tr>\n",
       "      <th>sex</th>\n",
       "      <td>0.220713</td>\n",
       "    </tr>\n",
       "    <tr>\n",
       "      <th>peabody</th>\n",
       "      <td>0.156745</td>\n",
       "    </tr>\n",
       "    <tr>\n",
       "      <th>age</th>\n",
       "      <td>0.147719</td>\n",
       "    </tr>\n",
       "    <tr>\n",
       "      <th>prenumb</th>\n",
       "      <td>0.002019</td>\n",
       "    </tr>\n",
       "    <tr>\n",
       "      <th>preclasf</th>\n",
       "      <td>-0.160455</td>\n",
       "    </tr>\n",
       "    <tr>\n",
       "      <th>prelet</th>\n",
       "      <td>-0.548139</td>\n",
       "    </tr>\n",
       "    <tr>\n",
       "      <th>site</th>\n",
       "      <td>-0.873336</td>\n",
       "    </tr>\n",
       "  </tbody>\n",
       "</table>\n",
       "</div>"
      ],
      "text/plain": [
       "          Coefficient\n",
       "regular      6.169283\n",
       "encour       2.277730\n",
       "setting      0.699363\n",
       "prebody      0.407415\n",
       "preform      0.407208\n",
       "sex          0.220713\n",
       "peabody      0.156745\n",
       "age          0.147719\n",
       "prenumb      0.002019\n",
       "preclasf    -0.160455\n",
       "prelet      -0.548139\n",
       "site        -0.873336"
      ]
     },
     "execution_count": 226,
     "metadata": {},
     "output_type": "execute_result"
    }
   ],
   "source": [
    "coeff_df = pd.DataFrame(model.coef_,X.columns,columns=['Coefficient'])\n",
    "coeff_df.sort_values(by=['Coefficient'], ascending=False)"
   ]
  },
  {
   "cell_type": "markdown",
   "metadata": {},
   "source": [
    "**Here too regular viewing is vastly the strongest coefficient in predicting change in literacy.**"
   ]
  }
 ],
 "metadata": {
  "interpreter": {
   "hash": "586ad1ed5c97141e2437e681efbf1ec0adcd17d830cf5af2ca3d2819e743e158"
  },
  "kernelspec": {
   "display_name": "Python 3.8.8 ('base')",
   "language": "python",
   "name": "python3"
  },
  "language_info": {
   "codemirror_mode": {
    "name": "ipython",
    "version": 3
   },
   "file_extension": ".py",
   "mimetype": "text/x-python",
   "name": "python",
   "nbconvert_exporter": "python",
   "pygments_lexer": "ipython3",
   "version": "3.8.8"
  },
  "orig_nbformat": 4
 },
 "nbformat": 4,
 "nbformat_minor": 2
}
